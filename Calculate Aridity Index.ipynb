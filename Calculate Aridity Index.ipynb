{
 "cells": [
  {
   "cell_type": "code",
   "execution_count": null,
   "id": "b89e6856",
   "metadata": {},
   "outputs": [],
   "source": [
    "# -*- coding: UTF-8 -*-\n",
    "import xarray as xr\n",
    "import os\n",
    "\n",
    "def calculate_aridity_index(pre_path, etp_path, output_path):\n",
    "    \"\"\"\n",
    "    Calculate the Aridity Index (AI = pre / etp) and save the result as a new NetCDF file.\n",
    "    \n",
    "    Parameters:\n",
    "    pre_path (str): Path to the NetCDF file containing precipitation (pre) data\n",
    "    etp_path (str): Path to the NetCDF file containing potential evapotranspiration (etp) data\n",
    "    output_path (str): Path to save the resulting AI NetCDF file\n",
    "    \"\"\"\n",
    "    # Open the two NetCDF files\n",
    "    ds_pre = xr.open_dataset(pre_path)\n",
    "    ds_etp = xr.open_dataset(etp_path)\n",
    "\n",
    "    # Ensure the result is NaN if pre or etp is NaN, or if etp equals 0\n",
    "    ds_ai = xr.where(\n",
    "        (ds_pre['pre'].notnull()) & (ds_etp['etp'].notnull()) & (ds_etp['etp'] != 0),\n",
    "        ds_pre['pre'] / ds_etp['etp'],\n",
    "        float('nan')\n",
    "    )\n",
    "\n",
    "    # Create a new xarray Dataset to store the result\n",
    "    ds_new = xr.Dataset(\n",
    "        {\n",
    "            'AI': ds_ai\n",
    "        },\n",
    "        coords={\n",
    "            'time': ds_pre['time'],\n",
    "            'lat': ds_pre['lat'],\n",
    "            'lon': ds_pre['lon']\n",
    "        }\n",
    "    )\n",
    "\n",
    "    # Save the result to a new NetCDF file\n",
    "    os.makedirs(os.path.dirname(output_path), exist_ok=True)\n",
    "    ds_new.to_netcdf(output_path)\n",
    "\n",
    "    print(f\"Computation completed. Output file: {output_path}\")"
   ]
  }
 ],
 "metadata": {
  "kernelspec": {
   "display_name": "Python 3 (ipykernel)",
   "language": "python",
   "name": "python3"
  },
  "language_info": {
   "codemirror_mode": {
    "name": "ipython",
    "version": 3
   },
   "file_extension": ".py",
   "mimetype": "text/x-python",
   "name": "python",
   "nbconvert_exporter": "python",
   "pygments_lexer": "ipython3",
   "version": "3.11.7"
  }
 },
 "nbformat": 4,
 "nbformat_minor": 5
}
